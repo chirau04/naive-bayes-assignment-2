{
 "cells": [
  {
   "cell_type": "markdown",
   "id": "a4a61d70-9fce-467a-acb8-689f915e2bc8",
   "metadata": {},
   "source": [
    "To find the probability that an employee is a smoker given that they use the health insurance plan, we can use Bayes' Theorem.\n",
    "\n",
    "Let:\n",
    "- A be the event that an employee uses the health insurance plan.\n",
    "- B be the event that an employee is a smoker.\n",
    "\n",
    "We are asked to find \\( P(B|A) \\), the probability that an employee is a smoker given that they use the health insurance plan.\n",
    "\n",
    "Given:\n",
    "- \\( P(A) \\), the probability that an employee uses the health insurance plan, is 0.70.\n",
    "- \\( P(B|A) \\), the probability that an employee is a smoker given that they use the health insurance plan, is 0.40.\n",
    "\n",
    "We can use Bayes' Theorem:\n",
    "\n",
    "\\[ P(B|A) = \\frac{P(A|B) \\times P(B)}{P(A)} \\]\n",
    "\n",
    "Substituting the given values:\n",
    "\n",
    "\\[ P(B|A) = \\frac{0.40 \\times P(B)}{0.70} \\]\n",
    "\n",
    "Since we're not given \\( P(B) \\), the probability that an employee is a smoker, we can't directly solve for \\( P(B|A) \\). We need more information to calculate it."
   ]
  },
  {
   "cell_type": "markdown",
   "id": "ce900b16-18bd-4b5f-87ad-dade9c6208f6",
   "metadata": {},
   "source": [
    "It seems there might be a typo in your question. Did you mean \"Bernoulli Naive Bayes\" and \"Multinomial Naive Bayes\"?\n",
    "\n",
    "If so, here's the difference between them:\n",
    "\n",
    "1. Bernoulli Naive Bayes:\n",
    "   - Assumes that features are binary variables (e.g., presence or absence of a feature).\n",
    "   - Commonly used in text classification tasks where the features represent whether a word occurs in a document or not.\n",
    "\n",
    "2. Multinomial Naive Bayes:\n",
    "   - Assumes that features represent counts or frequencies of occurrences (e.g., word counts).\n",
    "   - Suitable for classification tasks with discrete features, such as text classification where features represent word counts or frequencies.\n",
    "\n",
    "In summary, Bernoulli Naive Bayes is used when features are binary, while Multinomial Naive Bayes is used when features represent counts or frequencies."
   ]
  },
  {
   "cell_type": "markdown",
   "id": "f4bc0696-30a0-4cc4-9dfe-70c10ef86ed3",
   "metadata": {},
   "source": [
    "Bernoulli Naive Bayes typically assumes that missing values are represented as zeros in the feature vectors. This is because it's commonly used in text classification tasks, where features often represent the presence or absence of words in a document.\n",
    "\n",
    "So, if a feature is missing for a particular instance, it's treated as if the feature is absent (i.e., represented as zero) in that instance's feature vector. This assumption simplifies the computation and allows the algorithm to still make predictions even when some features are missing.\n",
    "\n",
    "However, it's important to note that handling missing values in Bernoulli Naive Bayes depends on the specific implementation or library being used. Some implementations might have options to handle missing values differently, such as imputation or considering missing values as a separate category."
   ]
  },
  {
   "cell_type": "code",
   "execution_count": null,
   "id": "b3e8f0fb-ba80-43bd-beeb-d63c720da25d",
   "metadata": {},
   "outputs": [],
   "source": []
  }
 ],
 "metadata": {
  "kernelspec": {
   "display_name": "Python 3 (ipykernel)",
   "language": "python",
   "name": "python3"
  },
  "language_info": {
   "codemirror_mode": {
    "name": "ipython",
    "version": 3
   },
   "file_extension": ".py",
   "mimetype": "text/x-python",
   "name": "python",
   "nbconvert_exporter": "python",
   "pygments_lexer": "ipython3",
   "version": "3.10.8"
  }
 },
 "nbformat": 4,
 "nbformat_minor": 5
}
